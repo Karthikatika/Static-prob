{
 "cells": [
  {
   "cell_type": "markdown",
   "id": "833ce6ea",
   "metadata": {},
   "source": [
    "<b> Cards </b>"
   ]
  },
  {
   "cell_type": "markdown",
   "id": "f7765415",
   "metadata": {},
   "source": [
    "1.GIVEN:\n",
    "    Total number of card P(S)=52\n",
    "    heart P(A)=13\n",
    "    diamond P(B)=13\n",
    "    spade P(C)=13\n",
    "    \n",
    "    P(A)=13/52=0.25\n",
    "    P(B)=13/51=0.2549\n",
    "    P(C)=13/50=0.26\n",
    "    P=P(A)"
   ]
  },
  {
   "cell_type": "code",
   "execution_count": 52,
   "id": "d35db6e2",
   "metadata": {},
   "outputs": [],
   "source": [
    "PA=13/52\n",
    "PB=13/51\n",
    "PC=13/50\n",
    "P=PA*PB*PC"
   ]
  },
  {
   "cell_type": "code",
   "execution_count": 53,
   "id": "20a78b66",
   "metadata": {},
   "outputs": [
    {
     "name": "stdout",
     "output_type": "stream",
     "text": [
      "0.01656862745098039\n"
     ]
    }
   ],
   "source": [
    "print(P)"
   ]
  },
  {
   "cell_type": "markdown",
   "id": "7cd69e1e",
   "metadata": {},
   "source": [
    "<b>2.MOVIE </b>"
   ]
  },
  {
   "cell_type": "markdown",
   "id": "11002018",
   "metadata": {},
   "source": [
    "action movie PA=42/100 \n",
    "comedy movie PB=54/100 \n",
    "Drama movie PC=36/100 \n",
    "horror movie PD=12/100"
   ]
  },
  {
   "cell_type": "code",
   "execution_count": 54,
   "id": "99b33594",
   "metadata": {},
   "outputs": [],
   "source": [
    "#find the prob of action or drama movie:\n",
    "P=PA+PC"
   ]
  },
  {
   "cell_type": "code",
   "execution_count": 55,
   "id": "c670dc69",
   "metadata": {},
   "outputs": [
    {
     "name": "stdout",
     "output_type": "stream",
     "text": [
      "probability of  favourite movie either action or drama: 0.51\n"
     ]
    }
   ],
   "source": [
    "print(\"probability of  favourite movie either action or drama:\",P)"
   ]
  },
  {
   "cell_type": "code",
   "execution_count": 56,
   "id": "c518ae1a",
   "metadata": {},
   "outputs": [],
   "source": [
    "Q=PB+PD"
   ]
  },
  {
   "cell_type": "code",
   "execution_count": 57,
   "id": "8697e114",
   "metadata": {},
   "outputs": [
    {
     "name": "stdout",
     "output_type": "stream",
     "text": [
      "probability of  favourite movie either comedy or horror: 0.3749019607843137\n"
     ]
    }
   ],
   "source": [
    "print(\"probability of  favourite movie either comedy or horror:\",Q)"
   ]
  },
  {
   "cell_type": "markdown",
   "id": "c9dddf59",
   "metadata": {},
   "source": [
    "<b>3.PROBABILITY OF BAG</b>"
   ]
  },
  {
   "cell_type": "markdown",
   "id": "ecfb058f",
   "metadata": {},
   "source": [
    "BAG A:\n",
    "    3 red ball\n",
    "    5 black ball \n",
    "    probability of black ball in bag A = 5/8\n",
    "\n",
    "BAG B:\n",
    "    4 white ball \n",
    "    7 black ball\n",
    "    probabiltiy of white ball in bag B=7/11\n",
    "\n",
    "    \n",
    "from choose a black ball in bag A and bag B:\n"
   ]
  },
  {
   "cell_type": "code",
   "execution_count": 58,
   "id": "f5d33211",
   "metadata": {},
   "outputs": [],
   "source": [
    "Pa=1/2 #probability of bag A\n",
    "Pb=1/2  #probability of bag b\n",
    "p1=5/8 #probability of black ball from bag A\n",
    "p2=7/11 #probability of black ball from bag B\n"
   ]
  },
  {
   "cell_type": "code",
   "execution_count": 59,
   "id": "9a98346a",
   "metadata": {},
   "outputs": [
    {
     "name": "stdout",
     "output_type": "stream",
     "text": [
      "probability of black ball selected in Bag B: 0.7166838842975205\n"
     ]
    }
   ],
   "source": [
    "P=(Pb+p2)*((Pa*p1)+(Pb*p2))\n",
    "print(\"probability of black ball selected in Bag B:\",P)"
   ]
  },
  {
   "cell_type": "markdown",
   "id": "95c7312b",
   "metadata": {},
   "source": [
    "9.pazzi per pizza"
   ]
  },
  {
   "cell_type": "code",
   "execution_count": 60,
   "id": "704395dd",
   "metadata": {},
   "outputs": [
    {
     "name": "stdout",
     "output_type": "stream",
     "text": [
      "0.040177141568228006\n"
     ]
    }
   ],
   "source": [
    "from scipy.stats import poisson \n",
    "pizza=poisson.pmf(k=80,mu=76)\n",
    "print(pizza)"
   ]
  },
  {
   "cell_type": "markdown",
   "id": "d01c541f",
   "metadata": {},
   "source": [
    "</b>7.Department of Transportation of California </b>"
   ]
  },
  {
   "cell_type": "code",
   "execution_count": 61,
   "id": "ae312634",
   "metadata": {},
   "outputs": [],
   "source": [
    "UC=[44,21,36,34,77,32,29,39,92,67,45,37]\n",
    "MV=[47,81,41,79,38,20,33,83,41,40,69,36]"
   ]
  },
  {
   "cell_type": "code",
   "execution_count": 62,
   "id": "cd58aa60",
   "metadata": {},
   "outputs": [],
   "source": [
    "import numpy as np\n",
    "x=np.array(UC)\n",
    "y=np.array(MV)"
   ]
  },
  {
   "cell_type": "code",
   "execution_count": 64,
   "id": "1be68bd5",
   "metadata": {},
   "outputs": [],
   "source": [
    "f=np.var(x,ddof=1)/np.var(y,ddof=1)"
   ]
  },
  {
   "cell_type": "code",
   "execution_count": 65,
   "id": "522c23e7",
   "metadata": {},
   "outputs": [
    {
     "name": "stdout",
     "output_type": "stream",
     "text": [
      "F-STATISTIC is  : 0.9921235138705414\n"
     ]
    }
   ],
   "source": [
    "print(\"F-STATISTIC is  :\",f)"
   ]
  },
  {
   "cell_type": "code",
   "execution_count": null,
   "id": "44821e1d",
   "metadata": {},
   "outputs": [],
   "source": [
    "4.\n",
    "Given:\n",
    "    450 application in 1 hour\n",
    "    by poisson distributed \n",
    "    \n",
    "    1)Receiving 10 application in 1 min \n",
    "       λ=450/60\n",
    "         λ=15/2 \n",
    "            x=10\n",
    "            \n",
    "            \n",
    "            P(x=x)=e**(-15/2).(15/2)**10/10!\n",
    "                  =0.0858\n",
    "                \n",
    "        2)Receiving Atleat 17 application in 2 minutes\n",
    "        \n",
    "        P(X=x)=e**(-15/2).(15/2)**17?17!\n",
    "              =0.6321\n",
    "    "
   ]
  }
 ],
 "metadata": {
  "kernelspec": {
   "display_name": "Python 3 (ipykernel)",
   "language": "python",
   "name": "python3"
  },
  "language_info": {
   "codemirror_mode": {
    "name": "ipython",
    "version": 3
   },
   "file_extension": ".py",
   "mimetype": "text/x-python",
   "name": "python",
   "nbconvert_exporter": "python",
   "pygments_lexer": "ipython3",
   "version": "3.9.7"
  }
 },
 "nbformat": 4,
 "nbformat_minor": 5
}
